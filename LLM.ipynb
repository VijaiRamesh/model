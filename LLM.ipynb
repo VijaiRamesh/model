{
  "nbformat": 4,
  "nbformat_minor": 0,
  "metadata": {
    "colab": {
      "provenance": []
    },
    "kernelspec": {
      "name": "python3",
      "display_name": "Python 3"
    },
    "language_info": {
      "name": "python"
    }
  },
  "cells": [
    {
      "cell_type": "code",
      "source": [
        "#!pip install transformers torch langchain"
      ],
      "metadata": {
        "id": "MSYwGUiA-OJm"
      },
      "execution_count": 1,
      "outputs": []
    },
    {
      "cell_type": "code",
      "source": [
        "import random\n",
        "import numpy as np\n",
        "from transformers import DistilBertModel, DistilBertTokenizer\n",
        "import torch\n",
        "from torch.quantization import quantize_dynamic\n",
        "from sklearn.metrics.pairwise import cosine_similarity"
      ],
      "metadata": {
        "id": "WJK2_Jvn32zk"
      },
      "execution_count": 2,
      "outputs": []
    },
    {
      "cell_type": "code",
      "source": [
        "#!pip install transformers torch chromadb langchain openai"
      ],
      "metadata": {
        "id": "Tmo99Aygeohn"
      },
      "execution_count": 3,
      "outputs": []
    },
    {
      "cell_type": "code",
      "source": [
        "# Load and Quantize the Model\n",
        "model_name = 'distilbert-base-uncased'\n",
        "tokenizer = DistilBertTokenizer.from_pretrained(model_name)\n",
        "model = DistilBertModel.from_pretrained(model_name)\n",
        "quantized_model = quantize_dynamic(model, {torch.nn.Linear}, dtype=torch.qint8)"
      ],
      "metadata": {
        "colab": {
          "base_uri": "https://localhost:8080/"
        },
        "id": "PmdQHk6x4erZ",
        "outputId": "47bbdbad-6e09-4065-ddf7-c6fe8ae5cd2e"
      },
      "execution_count": 4,
      "outputs": [
        {
          "output_type": "stream",
          "name": "stderr",
          "text": [
            "/usr/local/lib/python3.10/dist-packages/huggingface_hub/utils/_token.py:89: UserWarning: \n",
            "The secret `HF_TOKEN` does not exist in your Colab secrets.\n",
            "To authenticate with the Hugging Face Hub, create a token in your settings tab (https://huggingface.co/settings/tokens), set it as secret in your Google Colab and restart your session.\n",
            "You will be able to reuse this secret in all of your notebooks.\n",
            "Please note that authentication is recommended but still optional to access public models or datasets.\n",
            "  warnings.warn(\n"
          ]
        }
      ]
    },
    {
      "cell_type": "code",
      "source": [
        "def get_embeddings(text):\n",
        "    inputs = tokenizer(text, return_tensors='pt')\n",
        "    with torch.no_grad():\n",
        "        outputs = quantized_model(**inputs)\n",
        "    return outputs.last_hidden_state.mean(dim=1).squeeze().numpy()"
      ],
      "metadata": {
        "id": "jPiyo3-YgWJ4"
      },
      "execution_count": 5,
      "outputs": []
    },
    {
      "cell_type": "code",
      "source": [
        "# Generate and Index 50 Documents\n",
        "sample_texts = [\n",
        "    \"Document about artificial intelligence.\",\n",
        "    \"Research on machine learning.\",\n",
        "    \"Introduction to natural language processing.\",\n",
        "    \"The history of computer science.\",\n",
        "    \"Advances in deep learning techniques.\",\n",
        "    \"Understanding neural networks.\",\n",
        "    \"The impact of AI on society.\",\n",
        "    \"Future of robotics.\",\n",
        "    \"Applications of AI in healthcare.\",\n",
        "    \"Ethics in artificial intelligence.\",\n",
        "    \"Data science methodologies.\",\n",
        "    \"Statistical analysis and AI.\",\n",
        "    \"Overview of reinforcement learning.\",\n",
        "    \"Basics of supervised learning.\",\n",
        "    \"Unsupervised learning algorithms.\",\n",
        "    \"AI in autonomous vehicles.\",\n",
        "    \"AI-driven personal assistants.\",\n",
        "    \"Machine learning in finance.\",\n",
        "    \"AI for predictive analytics.\",\n",
        "    \"Trends in AI research.\",\n",
        "    \"Challenges in AI development.\",\n",
        "    \"AI for image recognition.\",\n",
        "    \"Natural language understanding.\",\n",
        "    \"AI in education.\",\n",
        "    \"AI in agriculture.\",\n",
        "    \"AI for climate change.\",\n",
        "    \"AI in cybersecurity.\",\n",
        "    \"AI in marketing.\",\n",
        "    \"AI in customer service.\",\n",
        "    \"The role of big data in AI.\",\n",
        "    \"AI and IoT integration.\",\n",
        "    \"AI for supply chain management.\",\n",
        "    \"AI in human resources.\",\n",
        "    \"AI in entertainment.\",\n",
        "    \"AI in legal services.\",\n",
        "    \"AI in manufacturing.\",\n",
        "    \"AI for energy management.\",\n",
        "    \"AI for disaster response.\",\n",
        "    \"AI for social good.\",\n",
        "    \"AI in transportation.\",\n",
        "    \"AI for medical diagnosis.\",\n",
        "    \"AI in sports analytics.\",\n",
        "    \"AI in retail.\",\n",
        "    \"AI for personalized recommendations.\",\n",
        "    \"AI and quantum computing.\",\n",
        "    \"AI for fraud detection.\",\n",
        "    \"AI for natural disaster prediction.\",\n",
        "    \"AI in space exploration.\",\n",
        "    \"AI in game development.\"\n",
        "]"
      ],
      "metadata": {
        "id": "-xs9YB4ugupv"
      },
      "execution_count": 6,
      "outputs": []
    },
    {
      "cell_type": "code",
      "source": [
        "documents = random.sample(sample_texts * 2, 50)\n",
        "document_embeddings = [get_embeddings(doc) for doc in documents]"
      ],
      "metadata": {
        "id": "eEPuI1dk9x5R"
      },
      "execution_count": 7,
      "outputs": []
    },
    {
      "cell_type": "code",
      "source": [
        "# Retrieve Documents\n",
        "def retrieve_documents(query, document_embeddings, documents, top_k=5):\n",
        "    query_embedding = get_embeddings(query)\n",
        "    similarities = cosine_similarity([query_embedding], document_embeddings).flatten()\n",
        "    top_indices = similarities.argsort()[-top_k:][::-1]\n",
        "    return [(documents[i], similarities[i]) for i in top_indices]"
      ],
      "metadata": {
        "id": "PdCr-Dha_wGr"
      },
      "execution_count": 8,
      "outputs": []
    },
    {
      "cell_type": "code",
      "source": [
        "query = \"AI applications in healthcare.\"\n",
        "results = retrieve_documents(query, document_embeddings, documents)"
      ],
      "metadata": {
        "id": "uNL76Tu5_wJY"
      },
      "execution_count": 9,
      "outputs": []
    },
    {
      "cell_type": "code",
      "source": [
        "# Print Retrieved Documents\n",
        "for doc, similarity in results:\n",
        "    print(f\"Document: {doc}, Similarity: {similarity}\")"
      ],
      "metadata": {
        "id": "Cwii2XuN_26s",
        "outputId": "91023a32-19b6-4393-e760-e1fbece04195",
        "colab": {
          "base_uri": "https://localhost:8080/"
        }
      },
      "execution_count": 10,
      "outputs": [
        {
          "output_type": "stream",
          "name": "stdout",
          "text": [
            "Document: Applications of AI in healthcare., Similarity: 0.9422410130500793\n",
            "Document: Challenges in AI development., Similarity: 0.8960748314857483\n",
            "Document: AI in sports analytics., Similarity: 0.8846433162689209\n",
            "Document: AI in sports analytics., Similarity: 0.8846433162689209\n",
            "Document: AI in autonomous vehicles., Similarity: 0.8698293566703796\n"
          ]
        }
      ]
    }
  ]
}